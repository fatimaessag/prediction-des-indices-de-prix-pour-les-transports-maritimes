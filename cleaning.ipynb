{
 "cells": [
  {
   "cell_type": "code",
   "execution_count": 1,
   "id": "e4b8b43d",
   "metadata": {},
   "outputs": [],
   "source": [
    "import pandas as das\n",
    "from datetime import datetime"
   ]
  },
  {
   "cell_type": "code",
   "execution_count": 27,
   "id": "9d2dc4d4",
   "metadata": {},
   "outputs": [],
   "source": [
    "file_name='Simple-X NY Dow Jones Index ETF (1679).csv'\n",
    "df=das.read_csv(file_name, index_col='Date', parse_dates=['Date'])"
   ]
  },
  {
   "cell_type": "code",
   "execution_count": 28,
   "id": "9dc821f8",
   "metadata": {},
   "outputs": [
    {
     "data": {
      "text/plain": [
       "Index(['Price', 'Open', 'High', 'Low', 'Vol.', 'Change %'], dtype='object')"
      ]
     },
     "execution_count": 28,
     "metadata": {},
     "output_type": "execute_result"
    }
   ],
   "source": [
    "df.columns"
   ]
  },
  {
   "cell_type": "code",
   "execution_count": 29,
   "id": "ffd3f486",
   "metadata": {},
   "outputs": [],
   "source": [
    "df.drop(['Open', 'High', 'Low', 'Vol.', 'Change %'],axis=1,inplace=True)"
   ]
  },
  {
   "cell_type": "code",
   "execution_count": 30,
   "id": "706df92a",
   "metadata": {},
   "outputs": [],
   "source": [
    "df.columns=['dow_jones_index']"
   ]
  },
  {
   "cell_type": "code",
   "execution_count": 31,
   "id": "6684af13",
   "metadata": {},
   "outputs": [
    {
     "data": {
      "text/plain": [
       "dow_jones_index    object\n",
       "dtype: object"
      ]
     },
     "execution_count": 31,
     "metadata": {},
     "output_type": "execute_result"
    }
   ],
   "source": [
    "df.dtypes"
   ]
  },
  {
   "cell_type": "code",
   "execution_count": 34,
   "id": "bb22a550",
   "metadata": {},
   "outputs": [
    {
     "data": {
      "text/html": [
       "<div>\n",
       "<style scoped>\n",
       "    .dataframe tbody tr th:only-of-type {\n",
       "        vertical-align: middle;\n",
       "    }\n",
       "\n",
       "    .dataframe tbody tr th {\n",
       "        vertical-align: top;\n",
       "    }\n",
       "\n",
       "    .dataframe thead th {\n",
       "        text-align: right;\n",
       "    }\n",
       "</style>\n",
       "<table border=\"1\" class=\"dataframe\">\n",
       "  <thead>\n",
       "    <tr style=\"text-align: right;\">\n",
       "      <th></th>\n",
       "      <th>dow_jones_index</th>\n",
       "    </tr>\n",
       "    <tr>\n",
       "      <th>Date</th>\n",
       "      <th></th>\n",
       "    </tr>\n",
       "  </thead>\n",
       "  <tbody>\n",
       "    <tr>\n",
       "      <th>2022-06-30</th>\n",
       "      <td>36,480.0</td>\n",
       "    </tr>\n",
       "    <tr>\n",
       "      <th>2022-06-29</th>\n",
       "      <td>36,540.0</td>\n",
       "    </tr>\n",
       "    <tr>\n",
       "      <th>2022-06-28</th>\n",
       "      <td>36,910.0</td>\n",
       "    </tr>\n",
       "    <tr>\n",
       "      <th>2022-06-27</th>\n",
       "      <td>36,900.0</td>\n",
       "    </tr>\n",
       "    <tr>\n",
       "      <th>2022-06-24</th>\n",
       "      <td>36,130.0</td>\n",
       "    </tr>\n",
       "    <tr>\n",
       "      <th>...</th>\n",
       "      <td>...</td>\n",
       "    </tr>\n",
       "    <tr>\n",
       "      <th>2012-01-11</th>\n",
       "      <td>9,280.0</td>\n",
       "    </tr>\n",
       "    <tr>\n",
       "      <th>2012-01-10</th>\n",
       "      <td>9,310.0</td>\n",
       "    </tr>\n",
       "    <tr>\n",
       "      <th>2012-01-06</th>\n",
       "      <td>9,250.0</td>\n",
       "    </tr>\n",
       "    <tr>\n",
       "      <th>2012-01-05</th>\n",
       "      <td>9,230.0</td>\n",
       "    </tr>\n",
       "    <tr>\n",
       "      <th>2012-01-04</th>\n",
       "      <td>9,240.0</td>\n",
       "    </tr>\n",
       "  </tbody>\n",
       "</table>\n",
       "<p>2438 rows × 1 columns</p>\n",
       "</div>"
      ],
      "text/plain": [
       "           dow_jones_index\n",
       "Date                      \n",
       "2022-06-30        36,480.0\n",
       "2022-06-29        36,540.0\n",
       "2022-06-28        36,910.0\n",
       "2022-06-27        36,900.0\n",
       "2022-06-24        36,130.0\n",
       "...                    ...\n",
       "2012-01-11         9,280.0\n",
       "2012-01-10         9,310.0\n",
       "2012-01-06         9,250.0\n",
       "2012-01-05         9,230.0\n",
       "2012-01-04         9,240.0\n",
       "\n",
       "[2438 rows x 1 columns]"
      ]
     },
     "execution_count": 34,
     "metadata": {},
     "output_type": "execute_result"
    }
   ],
   "source": [
    "df"
   ]
  },
  {
   "cell_type": "code",
   "execution_count": 40,
   "id": "4d76320d",
   "metadata": {},
   "outputs": [
    {
     "data": {
      "text/plain": [
       "[<matplotlib.lines.Line2D at 0x9727610>]"
      ]
     },
     "execution_count": 40,
     "metadata": {},
     "output_type": "execute_result"
    },
    {
     "data": {
      "image/png": "[encoded data removed]",
      "text/plain": [
       "<Figure size 432x288 with 1 Axes>"
      ]
     },
     "metadata": {
      "needs_background": "light"
     },
     "output_type": "display_data"
    }
   ],
   "source": [
    "from  matplotlib import pyplot as plt\n",
    "plt.plot(df)"
   ]
  },
  {
   "cell_type": "code",
   "execution_count": 36,
   "id": "3384df7a",
   "metadata": {},
   "outputs": [],
   "source": [
    "df=df.astype('str')"
   ]
  },
  {
   "cell_type": "code",
   "execution_count": 37,
   "id": "0e909494",
   "metadata": {},
   "outputs": [],
   "source": [
    "for i in range(len(df.dow_jones_index)):\n",
    "    df.iloc[i]=float(df.dow_jones_index[i].replace(',',''))"
   ]
  },
  {
   "cell_type": "code",
   "execution_count": 38,
   "id": "ab4adfac",
   "metadata": {},
   "outputs": [],
   "source": [
    "df=df.sort_values(\"Date\")"
   ]
  },
  {
   "cell_type": "code",
   "execution_count": 39,
   "id": "c198abe0",
   "metadata": {},
   "outputs": [
    {
     "data": {
      "text/html": [
       "<div>\n",
       "<style scoped>\n",
       "    .dataframe tbody tr th:only-of-type {\n",
       "        vertical-align: middle;\n",
       "    }\n",
       "\n",
       "    .dataframe tbody tr th {\n",
       "        vertical-align: top;\n",
       "    }\n",
       "\n",
       "    .dataframe thead th {\n",
       "        text-align: right;\n",
       "    }\n",
       "</style>\n",
       "<table border=\"1\" class=\"dataframe\">\n",
       "  <thead>\n",
       "    <tr style=\"text-align: right;\">\n",
       "      <th></th>\n",
       "      <th>dow_jones_index</th>\n",
       "    </tr>\n",
       "    <tr>\n",
       "      <th>Date</th>\n",
       "      <th></th>\n",
       "    </tr>\n",
       "  </thead>\n",
       "  <tbody>\n",
       "    <tr>\n",
       "      <th>2012-01-04</th>\n",
       "      <td>9240.0</td>\n",
       "    </tr>\n",
       "    <tr>\n",
       "      <th>2012-01-05</th>\n",
       "      <td>9230.0</td>\n",
       "    </tr>\n",
       "    <tr>\n",
       "      <th>2012-01-06</th>\n",
       "      <td>9250.0</td>\n",
       "    </tr>\n",
       "    <tr>\n",
       "      <th>2012-01-10</th>\n",
       "      <td>9310.0</td>\n",
       "    </tr>\n",
       "    <tr>\n",
       "      <th>2012-01-11</th>\n",
       "      <td>9280.0</td>\n",
       "    </tr>\n",
       "    <tr>\n",
       "      <th>...</th>\n",
       "      <td>...</td>\n",
       "    </tr>\n",
       "    <tr>\n",
       "      <th>2022-06-24</th>\n",
       "      <td>36130.0</td>\n",
       "    </tr>\n",
       "    <tr>\n",
       "      <th>2022-06-27</th>\n",
       "      <td>36900.0</td>\n",
       "    </tr>\n",
       "    <tr>\n",
       "      <th>2022-06-28</th>\n",
       "      <td>36910.0</td>\n",
       "    </tr>\n",
       "    <tr>\n",
       "      <th>2022-06-29</th>\n",
       "      <td>36540.0</td>\n",
       "    </tr>\n",
       "    <tr>\n",
       "      <th>2022-06-30</th>\n",
       "      <td>36480.0</td>\n",
       "    </tr>\n",
       "  </tbody>\n",
       "</table>\n",
       "<p>2438 rows × 1 columns</p>\n",
       "</div>"
      ],
      "text/plain": [
       "           dow_jones_index\n",
       "Date                      \n",
       "2012-01-04          9240.0\n",
       "2012-01-05          9230.0\n",
       "2012-01-06          9250.0\n",
       "2012-01-10          9310.0\n",
       "2012-01-11          9280.0\n",
       "...                    ...\n",
       "2022-06-24         36130.0\n",
       "2022-06-27         36900.0\n",
       "2022-06-28         36910.0\n",
       "2022-06-29         36540.0\n",
       "2022-06-30         36480.0\n",
       "\n",
       "[2438 rows x 1 columns]"
      ]
     },
     "execution_count": 39,
     "metadata": {},
     "output_type": "execute_result"
    }
   ],
   "source": [
    "df"
   ]
  },
  {
   "cell_type": "code",
   "execution_count": 41,
   "id": "9a7a792d",
   "metadata": {},
   "outputs": [],
   "source": [
    "df=df.astype('float')"
   ]
  },
  {
   "cell_type": "code",
   "execution_count": 42,
   "id": "3f916933",
   "metadata": {},
   "outputs": [],
   "source": [
    "m= {1:31,2:28,3:31,4:30,5:31,6:30,7:31,8:31,9:30,10:31,11:30,12:31}"
   ]
  },
  {
   "cell_type": "code",
   "execution_count": 43,
   "id": "e266d700",
   "metadata": {},
   "outputs": [],
   "source": [
    "index=df.index\n",
    "len_df=len(df.dow_jones_index)"
   ]
  },
  {
   "cell_type": "code",
   "execution_count": 44,
   "id": "9e26eac8",
   "metadata": {},
   "outputs": [
    {
     "data": {
      "text/plain": [
       "DatetimeIndex(['2012-01-04', '2012-01-05', '2012-01-06', '2012-01-10',\n",
       "               '2012-01-11', '2012-01-12', '2012-01-13', '2012-01-16',\n",
       "               '2012-01-17', '2012-01-18',\n",
       "               ...\n",
       "               '2022-06-17', '2022-06-20', '2022-06-21', '2022-06-22',\n",
       "               '2022-06-23', '2022-06-24', '2022-06-27', '2022-06-28',\n",
       "               '2022-06-29', '2022-06-30'],\n",
       "              dtype='datetime64[ns]', name='Date', length=2438, freq=None)"
      ]
     },
     "execution_count": 44,
     "metadata": {},
     "output_type": "execute_result"
    }
   ],
   "source": [
    "index"
   ]
  },
  {
   "cell_type": "code",
   "execution_count": 45,
   "id": "4c2d3de2",
   "metadata": {},
   "outputs": [],
   "source": [
    "for j in range (len_df-1):\n",
    "    if index[j].month == index[j+1].month:\n",
    "        if index[j+1].day!=index[j].day+1:\n",
    "            for d in range(index[j].day+1,index[j+1].day):\n",
    "                df.loc[datetime(index[j].year,index[j].month,d)]=(df.dow_jones_index[j]+df.dow_jones_index[j+1])/2\n",
    "    if index[j].month != index[j+1].month:\n",
    "        if index[j].day<m[index[j].month]:\n",
    "            for d in range(index[j].day+1,m[index[j].month]+1):\n",
    "                df.loc[datetime(index[j].year,index[j].month,d)]=(df.dow_jones_index[j]+df.dow_jones_index[j+1])/2\n",
    "        if index[j+1].day!=1:\n",
    "            for d in range(1,index[j+1].day):\n",
    "                df.loc[datetime(index[j+1].year,index[j+1].month,d)]=(df.dow_jones_index[j]+df.dow_jones_index[j+1])/2"
   ]
  },
  {
   "cell_type": "code",
   "execution_count": 46,
   "id": "1cfd149c",
   "metadata": {},
   "outputs": [],
   "source": [
    "df=df.sort_values(\"Date\")"
   ]
  },
  {
   "cell_type": "code",
   "execution_count": 47,
   "id": "a439d402",
   "metadata": {},
   "outputs": [
    {
     "data": {
      "text/html": [
       "<div>\n",
       "<style scoped>\n",
       "    .dataframe tbody tr th:only-of-type {\n",
       "        vertical-align: middle;\n",
       "    }\n",
       "\n",
       "    .dataframe tbody tr th {\n",
       "        vertical-align: top;\n",
       "    }\n",
       "\n",
       "    .dataframe thead th {\n",
       "        text-align: right;\n",
       "    }\n",
       "</style>\n",
       "<table border=\"1\" class=\"dataframe\">\n",
       "  <thead>\n",
       "    <tr style=\"text-align: right;\">\n",
       "      <th></th>\n",
       "      <th>dow_jones_index</th>\n",
       "    </tr>\n",
       "    <tr>\n",
       "      <th>Date</th>\n",
       "      <th></th>\n",
       "    </tr>\n",
       "  </thead>\n",
       "  <tbody>\n",
       "    <tr>\n",
       "      <th>2012-01-04</th>\n",
       "      <td>9240.0</td>\n",
       "    </tr>\n",
       "    <tr>\n",
       "      <th>2012-01-05</th>\n",
       "      <td>9230.0</td>\n",
       "    </tr>\n",
       "    <tr>\n",
       "      <th>2012-01-06</th>\n",
       "      <td>9250.0</td>\n",
       "    </tr>\n",
       "    <tr>\n",
       "      <th>2012-01-07</th>\n",
       "      <td>9280.0</td>\n",
       "    </tr>\n",
       "    <tr>\n",
       "      <th>2012-01-08</th>\n",
       "      <td>9280.0</td>\n",
       "    </tr>\n",
       "    <tr>\n",
       "      <th>...</th>\n",
       "      <td>...</td>\n",
       "    </tr>\n",
       "    <tr>\n",
       "      <th>2022-06-26</th>\n",
       "      <td>36515.0</td>\n",
       "    </tr>\n",
       "    <tr>\n",
       "      <th>2022-06-27</th>\n",
       "      <td>36900.0</td>\n",
       "    </tr>\n",
       "    <tr>\n",
       "      <th>2022-06-28</th>\n",
       "      <td>36910.0</td>\n",
       "    </tr>\n",
       "    <tr>\n",
       "      <th>2022-06-29</th>\n",
       "      <td>36540.0</td>\n",
       "    </tr>\n",
       "    <tr>\n",
       "      <th>2022-06-30</th>\n",
       "      <td>36480.0</td>\n",
       "    </tr>\n",
       "  </tbody>\n",
       "</table>\n",
       "<p>3830 rows × 1 columns</p>\n",
       "</div>"
      ],
      "text/plain": [
       "            dow_jones_index\n",
       "Date                       \n",
       "2012-01-04           9240.0\n",
       "2012-01-05           9230.0\n",
       "2012-01-06           9250.0\n",
       "2012-01-07           9280.0\n",
       "2012-01-08           9280.0\n",
       "...                     ...\n",
       "2022-06-26          36515.0\n",
       "2022-06-27          36900.0\n",
       "2022-06-28          36910.0\n",
       "2022-06-29          36540.0\n",
       "2022-06-30          36480.0\n",
       "\n",
       "[3830 rows x 1 columns]"
      ]
     },
     "execution_count": 47,
     "metadata": {},
     "output_type": "execute_result"
    }
   ],
   "source": [
    "df"
   ]
  },
  {
   "cell_type": "code",
   "execution_count": 48,
   "id": "5994701f",
   "metadata": {},
   "outputs": [],
   "source": [
    "df.loc[datetime(2020,2,29)]=(df.loc[datetime(2020,2,28)]+df.loc[datetime(2020,3,1)])/2"
   ]
  },
  {
   "cell_type": "code",
   "execution_count": 162,
   "id": "4aa4a763",
   "metadata": {},
   "outputs": [],
   "source": [
    "df.loc[datetime(2016,2,29)]=(df.loc[datetime(2016,2,28)]+df.loc[datetime(2016,3,1)])/2"
   ]
  },
  {
   "cell_type": "code",
   "execution_count": 49,
   "id": "308dc650",
   "metadata": {},
   "outputs": [],
   "source": [
    "df=df.sort_values(\"Date\")"
   ]
  },
  {
   "cell_type": "code",
   "execution_count": 50,
   "id": "3410b544",
   "metadata": {},
   "outputs": [],
   "source": [
    "df.to_csv(file_name)"
   ]
  },
  {
   "cell_type": "code",
   "execution_count": null,
   "id": "78c5594b",
   "metadata": {},
   "outputs": [],
   "source": []
  }
 ],
 "metadata": {
  "kernelspec": {
   "display_name": "Python 3",
   "language": "python",
   "name": "python3"
  },
  "language_info": {
   "codemirror_mode": {
    "name": "ipython",
    "version": 3
   },
   "file_extension": ".py",
   "mimetype": "text/x-python",
   "name": "python",
   "nbconvert_exporter": "python",
   "pygments_lexer": "ipython3",
   "version": "3.8.8"
  }
 },
 "nbformat": 4,
 "nbformat_minor": 5
}
