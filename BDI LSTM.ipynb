{
 "cells": [
  {
   "cell_type": "markdown",
   "id": "406789cf",
   "metadata": {},
   "source": [
    "\n",
    "# BDI"
   ]
  },
  {
   "cell_type": "markdown",
   "id": "8506b0c6",
   "metadata": {},
   "source": [
    "## LSTM"
   ]
  },
  {
   "cell_type": "code",
   "execution_count": 1,
   "id": "e18cb956",
   "metadata": {},
   "outputs": [],
   "source": [
    "#to install tensorflow: open anaconda prompt > conda create -n tf tensorflow > conda activate tf\n",
    "import numpy as np\n",
    "import pandas as pd\n",
    "from  matplotlib import pyplot as plt\n",
    "from statsmodels.graphics.tsaplots import plot_acf, plot_pacf\n",
    "from sklearn.preprocessing import MinMaxScaler\n",
    "from tensorflow.keras.models import Sequential\n",
    "from tensorflow.keras.layers import Dense\n",
    "from tensorflow.keras.layers import LSTM,SimpleRNN\n",
    "from statsmodels.tsa.stattools import adfuller"
   ]
  },
  {
   "cell_type": "code",
   "execution_count": 2,
   "id": "a35b2b0d",
   "metadata": {},
   "outputs": [
    {
     "data": {
      "text/html": [
       "<div>\n",
       "<style scoped>\n",
       "    .dataframe tbody tr th:only-of-type {\n",
       "        vertical-align: middle;\n",
       "    }\n",
       "\n",
       "    .dataframe tbody tr th {\n",
       "        vertical-align: top;\n",
       "    }\n",
       "\n",
       "    .dataframe thead th {\n",
       "        text-align: right;\n",
       "    }\n",
       "</style>\n",
       "<table border=\"1\" class=\"dataframe\">\n",
       "  <thead>\n",
       "    <tr style=\"text-align: right;\">\n",
       "      <th></th>\n",
       "      <th>BDI</th>\n",
       "    </tr>\n",
       "    <tr>\n",
       "      <th>Date</th>\n",
       "      <th></th>\n",
       "    </tr>\n",
       "  </thead>\n",
       "  <tbody>\n",
       "    <tr>\n",
       "      <th>2012-07-04</th>\n",
       "      <td>1103.0</td>\n",
       "    </tr>\n",
       "    <tr>\n",
       "      <th>2012-07-05</th>\n",
       "      <td>1138.0</td>\n",
       "    </tr>\n",
       "    <tr>\n",
       "      <th>2012-07-06</th>\n",
       "      <td>1157.0</td>\n",
       "    </tr>\n",
       "    <tr>\n",
       "      <th>2012-07-07</th>\n",
       "      <td>1159.5</td>\n",
       "    </tr>\n",
       "    <tr>\n",
       "      <th>2012-07-08</th>\n",
       "      <td>1159.5</td>\n",
       "    </tr>\n",
       "  </tbody>\n",
       "</table>\n",
       "</div>"
      ],
      "text/plain": [
       "               BDI\n",
       "Date              \n",
       "2012-07-04  1103.0\n",
       "2012-07-05  1138.0\n",
       "2012-07-06  1157.0\n",
       "2012-07-07  1159.5\n",
       "2012-07-08  1159.5"
      ]
     },
     "execution_count": 2,
     "metadata": {},
     "output_type": "execute_result"
    }
   ],
   "source": [
    "df= pd.read_csv('Baltic Dry Index Historical Data.csv',parse_dates=['Date'],index_col=['Date'])\n",
    "df.head()"
   ]
  },
  {
   "cell_type": "code",
   "execution_count": 3,
   "id": "45832e2e",
   "metadata": {},
   "outputs": [],
   "source": [
    "df_diff=df.diff().dropna()"
   ]
  },
  {
   "cell_type": "code",
   "execution_count": 4,
   "id": "f3374307",
   "metadata": {},
   "outputs": [
    {
     "name": "stdout",
     "output_type": "stream",
     "text": [
      "statistiques ADf:-12.145396822282459\n",
      "p-value:1.6151369416805567e-22\n",
      "valeurs critiques:\n",
      "\t 1% : -3.4321892422972575\n",
      "\t 5% : -2.8623526737372837\n",
      "\t 10% : -2.5672025996313876\n"
     ]
    }
   ],
   "source": [
    "result=adfuller(df_diff)\n",
    "print('statistiques ADf:{}'.format(result[0]))\n",
    "print('p-value:{}'.format(result[1]))\n",
    "print('valeurs critiques:')\n",
    "for key, value in result[4].items():\n",
    "    print('\\t {} : {}'.format(key,value))"
   ]
  },
  {
   "cell_type": "code",
   "execution_count": 5,
   "id": "b83d89e3",
   "metadata": {},
   "outputs": [
    {
     "data": {
      "image/png": "[encoded data removed]",
      "text/plain": [
       "<Figure size 432x288 with 1 Axes>"
      ]
     },
     "metadata": {
      "needs_background": "light"
     },
     "output_type": "display_data"
    }
   ],
   "source": [
    "plot_pacf(df_diff,lags=20)\n",
    "plt.show()"
   ]
  },
  {
   "cell_type": "code",
   "execution_count": 6,
   "id": "086fb1c5",
   "metadata": {},
   "outputs": [],
   "source": [
    "train=df_diff[:-30].values"
   ]
  },
  {
   "cell_type": "code",
   "execution_count": 7,
   "id": "bede0b02",
   "metadata": {},
   "outputs": [
    {
     "data": {
      "text/plain": [
       "array([[ 35. ],\n",
       "       [ 19. ],\n",
       "       [  2.5],\n",
       "       ...,\n",
       "       [-67. ],\n",
       "       [-48. ],\n",
       "       [-11. ]])"
      ]
     },
     "execution_count": 7,
     "metadata": {},
     "output_type": "execute_result"
    }
   ],
   "source": [
    "train"
   ]
  },
  {
   "cell_type": "code",
   "execution_count": 8,
   "id": "4d7289d7",
   "metadata": {},
   "outputs": [],
   "source": [
    "import numpy\n",
    "# convert an array of values into a dataset matrix\n",
    "def create_dataset(dataset, time_step=1):\n",
    "\tdataX, dataY = [], []\n",
    "\tfor i in range(len(dataset)-time_step-1):\n",
    "\t\ta = dataset[i:(i+time_step), 0]   ###i=0, 0,1,2,3-----99   100 \n",
    "\t\tdataX.append(a)\n",
    "\t\tdataY.append(dataset[i + time_step:i + time_step+1, 0])\n",
    "\treturn numpy.array(dataX), numpy.array(dataY)"
   ]
  },
  {
   "cell_type": "code",
   "execution_count": 9,
   "id": "4d046b8b",
   "metadata": {},
   "outputs": [],
   "source": [
    "time_step = 3\n",
    "X_train, y_train = create_dataset(train, time_step)\n",
    "#X_test, ytest = create_dataset(test_data, time_step)"
   ]
  },
  {
   "cell_type": "code",
   "execution_count": 10,
   "id": "95d86cc6",
   "metadata": {},
   "outputs": [],
   "source": [
    "X_train =X_train.reshape(X_train.shape[0],X_train.shape[1] , 1)\n",
    "#X_test = X_test.reshape(X_test.shape[0],X_test.shape[1] , 1)"
   ]
  },
  {
   "cell_type": "code",
   "execution_count": 11,
   "id": "7b145578",
   "metadata": {},
   "outputs": [],
   "source": [
    "def creat_model():\n",
    "    model=Sequential()\n",
    "    model.add(LSTM(50,return_sequences=True,input_shape=(time_step,1)))\n",
    "    model.add(LSTM(50))\n",
    "    model.add(Dense(1))\n",
    "    model.compile(loss='mean_squared_error',optimizer='adam')\n",
    "    return(model)"
   ]
  },
  {
   "cell_type": "code",
   "execution_count": 12,
   "id": "0ab644b8",
   "metadata": {},
   "outputs": [
    {
     "name": "stdout",
     "output_type": "stream",
     "text": [
      "Model: \"sequential\"\n",
      "_________________________________________________________________\n",
      " Layer (type)                Output Shape              Param #   \n",
      "=================================================================\n",
      " lstm (LSTM)                 (None, 3, 50)             10400     \n",
      "                                                                 \n",
      " lstm_1 (LSTM)               (None, 50)                20200     \n",
      "                                                                 \n",
      " dense (Dense)               (None, 1)                 51        \n",
      "                                                                 \n",
      "=================================================================\n",
      "Total params: 30,651\n",
      "Trainable params: 30,651\n",
      "Non-trainable params: 0\n",
      "_________________________________________________________________\n"
     ]
    }
   ],
   "source": [
    "model_1j=creat_model()\n",
    "model_1j.summary()"
   ]
  },
  {
   "cell_type": "code",
   "execution_count": 13,
   "id": "5212d54a",
   "metadata": {
    "scrolled": true
   },
   "outputs": [
    {
     "name": "stdout",
     "output_type": "stream",
     "text": [
      "Epoch 1/100\n",
      "56/56 [==============================] - 9s 12ms/step - loss: 1185.8253\n",
      "Epoch 2/100\n",
      "56/56 [==============================] - 1s 12ms/step - loss: 1092.2222\n",
      "Epoch 3/100\n",
      "56/56 [==============================] - 1s 12ms/step - loss: 1028.8251\n",
      "Epoch 4/100\n",
      "56/56 [==============================] - 1s 12ms/step - loss: 979.6682\n",
      "Epoch 5/100\n",
      "56/56 [==============================] - 1s 12ms/step - loss: 940.8057\n",
      "Epoch 6/100\n",
      "56/56 [==============================] - 1s 12ms/step - loss: 910.9819\n",
      "Epoch 7/100\n",
      "56/56 [==============================] - 1s 12ms/step - loss: 885.3480\n",
      "Epoch 8/100\n",
      "56/56 [==============================] - 1s 12ms/step - loss: 864.4129\n",
      "Epoch 9/100\n",
      "56/56 [==============================] - 1s 12ms/step - loss: 845.9641\n",
      "Epoch 10/100\n",
      "56/56 [==============================] - 1s 12ms/step - loss: 831.3324\n",
      "Epoch 11/100\n",
      "56/56 [==============================] - 1s 12ms/step - loss: 816.5838\n",
      "Epoch 12/100\n",
      "56/56 [==============================] - 1s 12ms/step - loss: 805.3450\n",
      "Epoch 13/100\n",
      "56/56 [==============================] - 1s 12ms/step - loss: 795.1159\n",
      "Epoch 14/100\n",
      "56/56 [==============================] - 1s 12ms/step - loss: 785.2402\n",
      "Epoch 15/100\n",
      "56/56 [==============================] - 1s 12ms/step - loss: 774.0756\n",
      "Epoch 16/100\n",
      "56/56 [==============================] - 1s 12ms/step - loss: 767.9774\n",
      "Epoch 17/100\n",
      "56/56 [==============================] - 1s 12ms/step - loss: 758.5248\n",
      "Epoch 18/100\n",
      "56/56 [==============================] - 1s 11ms/step - loss: 752.3858\n",
      "Epoch 19/100\n",
      "56/56 [==============================] - 1s 12ms/step - loss: 745.1788\n",
      "Epoch 20/100\n",
      "56/56 [==============================] - 1s 12ms/step - loss: 738.1811\n",
      "Epoch 21/100\n",
      "56/56 [==============================] - 1s 12ms/step - loss: 731.1553\n",
      "Epoch 22/100\n",
      "56/56 [==============================] - 1s 12ms/step - loss: 726.3669\n",
      "Epoch 23/100\n",
      "56/56 [==============================] - 1s 11ms/step - loss: 722.3708\n",
      "Epoch 24/100\n",
      "56/56 [==============================] - 1s 12ms/step - loss: 715.5786\n",
      "Epoch 25/100\n",
      "56/56 [==============================] - 1s 12ms/step - loss: 709.7701\n",
      "Epoch 26/100\n",
      "56/56 [==============================] - 1s 12ms/step - loss: 704.1713\n",
      "Epoch 27/100\n",
      "56/56 [==============================] - 1s 12ms/step - loss: 699.6870\n",
      "Epoch 28/100\n",
      "56/56 [==============================] - 1s 12ms/step - loss: 696.2812\n",
      "Epoch 29/100\n",
      "56/56 [==============================] - 1s 12ms/step - loss: 690.4629\n",
      "Epoch 30/100\n",
      "56/56 [==============================] - 1s 12ms/step - loss: 689.7538\n",
      "Epoch 31/100\n",
      "56/56 [==============================] - 1s 12ms/step - loss: 684.3978\n",
      "Epoch 32/100\n",
      "56/56 [==============================] - 1s 12ms/step - loss: 680.0596\n",
      "Epoch 33/100\n",
      "56/56 [==============================] - 1s 12ms/step - loss: 677.5143\n",
      "Epoch 34/100\n",
      "56/56 [==============================] - 1s 12ms/step - loss: 671.8113\n",
      "Epoch 35/100\n",
      "56/56 [==============================] - 1s 13ms/step - loss: 673.2717\n",
      "Epoch 36/100\n",
      "56/56 [==============================] - 1s 13ms/step - loss: 668.0862\n",
      "Epoch 37/100\n",
      "56/56 [==============================] - 1s 12ms/step - loss: 664.6378\n",
      "Epoch 38/100\n",
      "56/56 [==============================] - 1s 13ms/step - loss: 662.4619\n",
      "Epoch 39/100\n",
      "56/56 [==============================] - 1s 12ms/step - loss: 657.4097\n",
      "Epoch 40/100\n",
      "56/56 [==============================] - 1s 12ms/step - loss: 656.8115\n",
      "Epoch 41/100\n",
      "56/56 [==============================] - 1s 12ms/step - loss: 652.1194\n",
      "Epoch 42/100\n",
      "56/56 [==============================] - 1s 12ms/step - loss: 649.8706\n",
      "Epoch 43/100\n",
      "56/56 [==============================] - 1s 12ms/step - loss: 649.4184\n",
      "Epoch 44/100\n",
      "56/56 [==============================] - 1s 12ms/step - loss: 643.0373\n",
      "Epoch 45/100\n",
      "56/56 [==============================] - 1s 12ms/step - loss: 643.5183\n",
      "Epoch 46/100\n",
      "56/56 [==============================] - 1s 12ms/step - loss: 644.4008\n",
      "Epoch 47/100\n",
      "56/56 [==============================] - 1s 11ms/step - loss: 640.1415\n",
      "Epoch 48/100\n",
      "56/56 [==============================] - 1s 11ms/step - loss: 636.6633\n",
      "Epoch 49/100\n",
      "56/56 [==============================] - 1s 11ms/step - loss: 639.3710\n",
      "Epoch 50/100\n",
      "56/56 [==============================] - 1s 12ms/step - loss: 637.3914\n",
      "Epoch 51/100\n",
      "56/56 [==============================] - 1s 12ms/step - loss: 629.6242\n",
      "Epoch 52/100\n",
      "56/56 [==============================] - 1s 14ms/step - loss: 632.9668\n",
      "Epoch 53/100\n",
      "56/56 [==============================] - 1s 13ms/step - loss: 627.4835\n",
      "Epoch 54/100\n",
      "56/56 [==============================] - 1s 12ms/step - loss: 630.1484\n",
      "Epoch 55/100\n",
      "56/56 [==============================] - 1s 13ms/step - loss: 624.2015\n",
      "Epoch 56/100\n",
      "56/56 [==============================] - 1s 12ms/step - loss: 623.2212\n",
      "Epoch 57/100\n",
      "56/56 [==============================] - 1s 17ms/step - loss: 625.6739\n",
      "Epoch 58/100\n",
      "56/56 [==============================] - 1s 13ms/step - loss: 621.0106\n",
      "Epoch 59/100\n",
      "56/56 [==============================] - 1s 15ms/step - loss: 619.4814\n",
      "Epoch 60/100\n",
      "56/56 [==============================] - 1s 13ms/step - loss: 616.5222\n",
      "Epoch 61/100\n",
      "56/56 [==============================] - 1s 13ms/step - loss: 617.9211\n",
      "Epoch 62/100\n",
      "56/56 [==============================] - 1s 13ms/step - loss: 613.8784\n",
      "Epoch 63/100\n",
      "56/56 [==============================] - 1s 15ms/step - loss: 614.7331\n",
      "Epoch 64/100\n",
      "56/56 [==============================] - 1s 13ms/step - loss: 612.6832\n",
      "Epoch 65/100\n",
      "56/56 [==============================] - 1s 12ms/step - loss: 608.8968\n",
      "Epoch 66/100\n",
      "56/56 [==============================] - 1s 12ms/step - loss: 608.1624\n",
      "Epoch 67/100\n",
      "56/56 [==============================] - 1s 13ms/step - loss: 606.7220\n",
      "Epoch 68/100\n",
      "56/56 [==============================] - 1s 12ms/step - loss: 605.8307\n",
      "Epoch 69/100\n",
      "56/56 [==============================] - 1s 12ms/step - loss: 608.0598\n",
      "Epoch 70/100\n",
      "56/56 [==============================] - 1s 12ms/step - loss: 603.5947\n",
      "Epoch 71/100\n",
      "56/56 [==============================] - 1s 12ms/step - loss: 605.7950\n",
      "Epoch 72/100\n",
      "56/56 [==============================] - 1s 12ms/step - loss: 602.4756\n",
      "Epoch 73/100\n",
      "56/56 [==============================] - 1s 11ms/step - loss: 602.7970\n",
      "Epoch 74/100\n",
      "56/56 [==============================] - 1s 11ms/step - loss: 601.8177\n",
      "Epoch 75/100\n",
      "56/56 [==============================] - 1s 11ms/step - loss: 601.3617\n",
      "Epoch 76/100\n",
      "56/56 [==============================] - 1s 12ms/step - loss: 599.6737\n",
      "Epoch 77/100\n",
      "56/56 [==============================] - 1s 12ms/step - loss: 598.9677\n",
      "Epoch 78/100\n",
      "56/56 [==============================] - 1s 13ms/step - loss: 598.6279\n",
      "Epoch 79/100\n",
      "56/56 [==============================] - 1s 12ms/step - loss: 594.8289\n",
      "Epoch 80/100\n",
      "56/56 [==============================] - 1s 12ms/step - loss: 594.7314\n",
      "Epoch 81/100\n",
      "56/56 [==============================] - 1s 12ms/step - loss: 590.5771\n",
      "Epoch 82/100\n",
      "56/56 [==============================] - 1s 12ms/step - loss: 590.4262\n",
      "Epoch 83/100\n",
      "56/56 [==============================] - 1s 13ms/step - loss: 588.1683\n",
      "Epoch 84/100\n",
      "56/56 [==============================] - 1s 13ms/step - loss: 588.1054\n",
      "Epoch 85/100\n",
      "56/56 [==============================] - 1s 12ms/step - loss: 587.7100\n",
      "Epoch 86/100\n",
      "56/56 [==============================] - 1s 12ms/step - loss: 589.1794\n",
      "Epoch 87/100\n",
      "56/56 [==============================] - 1s 12ms/step - loss: 583.3517\n",
      "Epoch 88/100\n",
      "56/56 [==============================] - 1s 12ms/step - loss: 581.9807\n",
      "Epoch 89/100\n",
      "56/56 [==============================] - 1s 12ms/step - loss: 583.7287\n",
      "Epoch 90/100\n",
      "56/56 [==============================] - 1s 12ms/step - loss: 584.2027\n",
      "Epoch 91/100\n",
      "56/56 [==============================] - 1s 12ms/step - loss: 583.9670\n",
      "Epoch 92/100\n",
      "56/56 [==============================] - 1s 12ms/step - loss: 578.8763\n",
      "Epoch 93/100\n",
      "56/56 [==============================] - 1s 12ms/step - loss: 582.5392\n",
      "Epoch 94/100\n",
      "56/56 [==============================] - 1s 13ms/step - loss: 574.9205\n",
      "Epoch 95/100\n",
      "56/56 [==============================] - 1s 12ms/step - loss: 577.0759\n",
      "Epoch 96/100\n",
      "56/56 [==============================] - 1s 12ms/step - loss: 573.0947\n",
      "Epoch 97/100\n",
      "56/56 [==============================] - 1s 13ms/step - loss: 575.8705\n",
      "Epoch 98/100\n",
      "56/56 [==============================] - 1s 12ms/step - loss: 573.1719\n",
      "Epoch 99/100\n",
      "56/56 [==============================] - 1s 12ms/step - loss: 569.6037\n",
      "Epoch 100/100\n",
      "56/56 [==============================] - 1s 12ms/step - loss: 572.3314\n"
     ]
    }
   ],
   "source": [
    "hist_1j=model_1j.fit(X_train,y_train,epochs=100,batch_size=64,verbose=1)\n",
    "# converganece de l'erreur est àpres ~1750 epochs avec une valeur de ~175, mais les résultats sont mieux avec 100 épochs seulement"
   ]
  },
  {
   "cell_type": "code",
   "execution_count": 14,
   "id": "4273811b",
   "metadata": {},
   "outputs": [
    {
     "data": {
      "text/plain": [
       "<matplotlib.legend.Legend at 0x176b8c10>"
      ]
     },
     "execution_count": 14,
     "metadata": {},
     "output_type": "execute_result"
    },
    {
     "data": {
      "image/png": "[encoded data removed]",
      "text/plain": [
       "<Figure size 432x288 with 1 Axes>"
      ]
     },
     "metadata": {
      "needs_background": "light"
     },
     "output_type": "display_data"
    }
   ],
   "source": [
    "plt.plot(hist_1j.history['loss'],label='loss_training_1j')\n",
    "plt.legend()"
   ]
  },
  {
   "cell_type": "code",
   "execution_count": 15,
   "id": "27369d42",
   "metadata": {
    "scrolled": true
   },
   "outputs": [
    {
     "name": "stdout",
     "output_type": "stream",
     "text": [
      "1/1 [==============================] - 2s 2s/step\n",
      "1/1 [==============================] - 0s 71ms/step\n",
      "1/1 [==============================] - 0s 50ms/step\n",
      "1/1 [==============================] - 0s 42ms/step\n",
      "1/1 [==============================] - 0s 50ms/step\n",
      "1/1 [==============================] - 0s 25ms/step\n",
      "1/1 [==============================] - 0s 35ms/step\n",
      "1/1 [==============================] - 0s 28ms/step\n",
      "1/1 [==============================] - 0s 36ms/step\n",
      "1/1 [==============================] - 0s 22ms/step\n",
      "1/1 [==============================] - 0s 30ms/step\n",
      "1/1 [==============================] - 0s 32ms/step\n",
      "1/1 [==============================] - 0s 35ms/step\n",
      "1/1 [==============================] - 0s 29ms/step\n",
      "1/1 [==============================] - 0s 31ms/step\n",
      "1/1 [==============================] - 0s 22ms/step\n",
      "1/1 [==============================] - 0s 34ms/step\n",
      "1/1 [==============================] - 0s 30ms/step\n",
      "1/1 [==============================] - 0s 26ms/step\n",
      "1/1 [==============================] - 0s 28ms/step\n",
      "1/1 [==============================] - 0s 36ms/step\n",
      "1/1 [==============================] - 0s 38ms/step\n",
      "1/1 [==============================] - 0s 31ms/step\n",
      "1/1 [==============================] - 0s 27ms/step\n",
      "1/1 [==============================] - 0s 33ms/step\n",
      "1/1 [==============================] - 0s 29ms/step\n",
      "1/1 [==============================] - 0s 27ms/step\n",
      "1/1 [==============================] - 0s 23ms/step\n",
      "1/1 [==============================] - 0s 22ms/step\n",
      "1/1 [==============================] - 0s 31ms/step\n"
     ]
    }
   ],
   "source": [
    "p=-30\n",
    "prédictions=[]\n",
    "maes=0\n",
    "_list_maes=[]\n",
    "rmses=0\n",
    "_list_rmses=[]\n",
    "values=[]\n",
    "for i in range(30):\n",
    "    prediction=model_1j.predict(df_diff[p-time_step:p].values.reshape(1,time_step,1)) \n",
    "    x, x_diff = df['BDI'].iloc[p-1], prediction.reshape(1,)\n",
    "    \n",
    "    if p==-1:\n",
    "        test_df=df[-1:]\n",
    "    else:\n",
    "        test_df=df[p:p+1]\n",
    "    serie = pd.DataFrame(np.r_[x, x_diff].cumsum().astype(float)[-1:],index=test_df.index)\n",
    "    values.append(serie[-1:].values.reshape((1,)))\n",
    "    mae = np.mean(np.abs(test_df.values - serie.values))\n",
    "    maes=maes+mae\n",
    "    rmse = np.mean((test_df.values - serie.values)**2)**.5\n",
    "    rmses=rmses+rmse\n",
    "    _list_rmses.append(rmse)\n",
    "    _list_maes.append(mae)\n",
    "    prédictions.append(serie)\n",
    "    p+=1\n",
    "rmses=rmses/30\n",
    "maes=maes/30\n"
   ]
  },
  {
   "cell_type": "code",
   "execution_count": 16,
   "id": "7dee0f15",
   "metadata": {},
   "outputs": [
    {
     "data": {
      "text/plain": [
       "[array([2357.10522461]),\n",
       " array([2355.93774414]),\n",
       " array([2312.56323242]),\n",
       " array([2319.39233398]),\n",
       " array([2213.02050781]),\n",
       " array([2123.76513672]),\n",
       " array([2096.77685547]),\n",
       " array([2034.45666504]),\n",
       " array([2054.46948242]),\n",
       " array([2040.67175293]),\n",
       " array([2038.56005859]),\n",
       " array([2003.4375]),\n",
       " array([2038.41357422]),\n",
       " array([2088.01782227]),\n",
       " array([2207.56860352]),\n",
       " array([2095.90087891]),\n",
       " array([2116.79956055]),\n",
       " array([2117.89404297]),\n",
       " array([2124.80395508]),\n",
       " array([2097.11743164]),\n",
       " array([2180.38256836]),\n",
       " array([2276.83666992]),\n",
       " array([2321.14331055]),\n",
       " array([2337.20947266]),\n",
       " array([2354.19628906]),\n",
       " array([2402.7590332]),\n",
       " array([2437.98828125]),\n",
       " array([2433.24780273]),\n",
       " array([2393.74438477]),\n",
       " array([2394.7890625])]"
      ]
     },
     "execution_count": 16,
     "metadata": {},
     "output_type": "execute_result"
    }
   ],
   "source": [
    "values"
   ]
  },
  {
   "cell_type": "code",
   "execution_count": 17,
   "id": "9e027ec2",
   "metadata": {},
   "outputs": [
    {
     "data": {
      "text/plain": [
       "<matplotlib.legend.Legend at 0x1c747cd0>"
      ]
     },
     "execution_count": 17,
     "metadata": {},
     "output_type": "execute_result"
    },
    {
     "data": {
      "image/png": "[encoded data removed]",
      "text/plain": [
       "<Figure size 432x288 with 1 Axes>"
      ]
     },
     "metadata": {
      "needs_background": "light"
     },
     "output_type": "display_data"
    }
   ],
   "source": [
    "plt.plot(np.array(prédictions).reshape(30,),label='prédiction à court terme(1j)')\n",
    "plt.plot(df[-30:].values,label='valeurs réelles')\n",
    "plt.legend()"
   ]
  },
  {
   "cell_type": "code",
   "execution_count": 18,
   "id": "6a3dd9b0",
   "metadata": {},
   "outputs": [
    {
     "data": {
      "text/plain": [
       "(20.206380208333332, 20.206380208333332)"
      ]
     },
     "execution_count": 18,
     "metadata": {},
     "output_type": "execute_result"
    }
   ],
   "source": [
    "maes,rmses"
   ]
  },
  {
   "cell_type": "code",
   "execution_count": 48,
   "id": "7f1d11e8",
   "metadata": {},
   "outputs": [],
   "source": [
    "!mkdir  saved_models\n",
    "model_1j.save('saved_models/model_1j.h5')"
   ]
  },
  {
   "cell_type": "markdown",
   "id": "069587b6",
   "metadata": {},
   "source": [
    "### prédiction à long terme: 30 jours"
   ]
  },
  {
   "cell_type": "code",
   "execution_count": 21,
   "id": "fed5beca",
   "metadata": {},
   "outputs": [],
   "source": [
    "train=df_diff[:-300].values"
   ]
  },
  {
   "cell_type": "code",
   "execution_count": 22,
   "id": "d1955c05",
   "metadata": {},
   "outputs": [],
   "source": [
    "import numpy\n",
    "# convert an array of values into a dataset matrix\n",
    "def create_dataset_mois(dataset, time_step=1):\n",
    "\tdataX, dataY = [], []\n",
    "\tfor i in range(len(dataset)-time_step-30):\n",
    "\t\ta = dataset[i:(i+time_step), 0]   ###i=0, 0,1,2,3-----99   100 \n",
    "\t\tdataX.append(a)\n",
    "\t\tdataY.append(dataset[i + time_step:i + time_step+30, 0])\n",
    "\treturn numpy.array(dataX), numpy.array(dataY)"
   ]
  },
  {
   "cell_type": "code",
   "execution_count": 23,
   "id": "aabf10e2",
   "metadata": {},
   "outputs": [],
   "source": [
    "time_step = 3\n",
    "X_train, y_train = create_dataset_mois(train, time_step)"
   ]
  },
  {
   "cell_type": "code",
   "execution_count": 24,
   "id": "6e96da12",
   "metadata": {},
   "outputs": [],
   "source": [
    "X_train =X_train.reshape(X_train.shape[0],X_train.shape[1] , 1)"
   ]
  },
  {
   "cell_type": "code",
   "execution_count": 25,
   "id": "a596f552",
   "metadata": {},
   "outputs": [],
   "source": [
    "def creat_model_mois():\n",
    "    model=Sequential()\n",
    "    model.add(LSTM(50,return_sequences=True,input_shape=(3,1)))\n",
    "    model.add(LSTM(50))\n",
    "    model.add(Dense(30))\n",
    "    model.compile(loss='mean_squared_error',optimizer='adam')\n",
    "    return(model)"
   ]
  },
  {
   "cell_type": "code",
   "execution_count": 26,
   "id": "c6162409",
   "metadata": {},
   "outputs": [
    {
     "name": "stdout",
     "output_type": "stream",
     "text": [
      "Model: \"sequential_1\"\n",
      "_________________________________________________________________\n",
      " Layer (type)                Output Shape              Param #   \n",
      "=================================================================\n",
      " lstm_2 (LSTM)               (None, 3, 50)             10400     \n",
      "                                                                 \n",
      " lstm_3 (LSTM)               (None, 50)                20200     \n",
      "                                                                 \n",
      " dense_1 (Dense)             (None, 30)                1530      \n",
      "                                                                 \n",
      "=================================================================\n",
      "Total params: 32,130\n",
      "Trainable params: 32,130\n",
      "Non-trainable params: 0\n",
      "_________________________________________________________________\n"
     ]
    }
   ],
   "source": [
    "model_30j=creat_model_mois()\n",
    "model_30j.summary()"
   ]
  },
  {
   "cell_type": "code",
   "execution_count": 27,
   "id": "a91e1cd2",
   "metadata": {},
   "outputs": [
    {
     "name": "stdout",
     "output_type": "stream",
     "text": [
      "Epoch 1/100\n",
      "51/51 [==============================] - 9s 12ms/step - loss: 771.8304\n",
      "Epoch 2/100\n",
      "51/51 [==============================] - 1s 12ms/step - loss: 766.7499\n",
      "Epoch 3/100\n",
      "51/51 [==============================] - 1s 12ms/step - loss: 762.3263\n",
      "Epoch 4/100\n",
      "51/51 [==============================] - 1s 12ms/step - loss: 759.8342\n",
      "Epoch 5/100\n",
      "51/51 [==============================] - 1s 12ms/step - loss: 758.3331\n",
      "Epoch 6/100\n",
      "51/51 [==============================] - 1s 12ms/step - loss: 757.1429\n",
      "Epoch 7/100\n",
      "51/51 [==============================] - 1s 13ms/step - loss: 756.3171\n",
      "Epoch 8/100\n",
      "51/51 [==============================] - 1s 12ms/step - loss: 755.4956\n",
      "Epoch 9/100\n",
      "51/51 [==============================] - 1s 12ms/step - loss: 754.6796\n",
      "Epoch 10/100\n",
      "51/51 [==============================] - 1s 12ms/step - loss: 753.7512\n",
      "Epoch 11/100\n",
      "51/51 [==============================] - 1s 13ms/step - loss: 752.9897\n",
      "Epoch 12/100\n",
      "51/51 [==============================] - 1s 12ms/step - loss: 752.1118\n",
      "Epoch 13/100\n",
      "51/51 [==============================] - 1s 12ms/step - loss: 751.5650\n",
      "Epoch 14/100\n",
      "51/51 [==============================] - 1s 12ms/step - loss: 750.6451\n",
      "Epoch 15/100\n",
      "51/51 [==============================] - 1s 12ms/step - loss: 750.2649\n",
      "Epoch 16/100\n",
      "51/51 [==============================] - 1s 12ms/step - loss: 749.3928\n",
      "Epoch 17/100\n",
      "51/51 [==============================] - 1s 12ms/step - loss: 748.8402\n",
      "Epoch 18/100\n",
      "51/51 [==============================] - 1s 12ms/step - loss: 748.3596\n",
      "Epoch 19/100\n",
      "51/51 [==============================] - 1s 12ms/step - loss: 747.7054\n",
      "Epoch 20/100\n",
      "51/51 [==============================] - 1s 13ms/step - loss: 747.0886\n",
      "Epoch 21/100\n",
      "51/51 [==============================] - 1s 12ms/step - loss: 746.8845\n",
      "Epoch 22/100\n",
      "51/51 [==============================] - 1s 12ms/step - loss: 746.3421\n",
      "Epoch 23/100\n",
      "51/51 [==============================] - 1s 12ms/step - loss: 745.9662\n",
      "Epoch 24/100\n",
      "51/51 [==============================] - 1s 12ms/step - loss: 745.3746\n",
      "Epoch 25/100\n",
      "51/51 [==============================] - 1s 13ms/step - loss: 745.2091\n",
      "Epoch 26/100\n",
      "51/51 [==============================] - 1s 12ms/step - loss: 744.6829\n",
      "Epoch 27/100\n",
      "51/51 [==============================] - 1s 12ms/step - loss: 744.2139\n",
      "Epoch 28/100\n",
      "51/51 [==============================] - 1s 12ms/step - loss: 743.7915\n",
      "Epoch 29/100\n",
      "51/51 [==============================] - 1s 12ms/step - loss: 743.5635\n",
      "Epoch 30/100\n",
      "51/51 [==============================] - 1s 12ms/step - loss: 743.0656\n",
      "Epoch 31/100\n",
      "51/51 [==============================] - 1s 12ms/step - loss: 742.9708\n",
      "Epoch 32/100\n",
      "51/51 [==============================] - 1s 12ms/step - loss: 742.4091\n",
      "Epoch 33/100\n",
      "51/51 [==============================] - 1s 12ms/step - loss: 742.0898\n",
      "Epoch 34/100\n",
      "51/51 [==============================] - 1s 12ms/step - loss: 741.7280\n",
      "Epoch 35/100\n",
      "51/51 [==============================] - 1s 12ms/step - loss: 741.4825\n",
      "Epoch 36/100\n",
      "51/51 [==============================] - 1s 12ms/step - loss: 741.0191\n",
      "Epoch 37/100\n",
      "51/51 [==============================] - 1s 13ms/step - loss: 740.5602\n",
      "Epoch 38/100\n",
      "51/51 [==============================] - 1s 13ms/step - loss: 740.6833\n",
      "Epoch 39/100\n",
      "51/51 [==============================] - 1s 12ms/step - loss: 739.8857\n",
      "Epoch 40/100\n",
      "51/51 [==============================] - 1s 13ms/step - loss: 739.4813\n",
      "Epoch 41/100\n",
      "51/51 [==============================] - 1s 14ms/step - loss: 739.0947\n",
      "Epoch 42/100\n",
      "51/51 [==============================] - 1s 12ms/step - loss: 738.8575\n",
      "Epoch 43/100\n",
      "51/51 [==============================] - 1s 13ms/step - loss: 738.6597\n",
      "Epoch 44/100\n",
      "51/51 [==============================] - 1s 14ms/step - loss: 738.0534\n",
      "Epoch 45/100\n",
      "51/51 [==============================] - 1s 13ms/step - loss: 737.8738\n",
      "Epoch 46/100\n",
      "51/51 [==============================] - 1s 14ms/step - loss: 737.4768\n",
      "Epoch 47/100\n",
      "51/51 [==============================] - 1s 13ms/step - loss: 737.3583\n",
      "Epoch 48/100\n",
      "51/51 [==============================] - 1s 13ms/step - loss: 736.7836\n",
      "Epoch 49/100\n",
      "51/51 [==============================] - 1s 12ms/step - loss: 736.7033\n",
      "Epoch 50/100\n",
      "51/51 [==============================] - 1s 13ms/step - loss: 736.1695\n",
      "Epoch 51/100\n",
      "51/51 [==============================] - 1s 14ms/step - loss: 735.8845\n",
      "Epoch 52/100\n",
      "51/51 [==============================] - 1s 13ms/step - loss: 735.5748\n",
      "Epoch 53/100\n",
      "51/51 [==============================] - 1s 12ms/step - loss: 735.3777\n",
      "Epoch 54/100\n",
      "51/51 [==============================] - 1s 13ms/step - loss: 735.3729\n",
      "Epoch 55/100\n",
      "51/51 [==============================] - 1s 13ms/step - loss: 734.8735\n",
      "Epoch 56/100\n",
      "51/51 [==============================] - 1s 13ms/step - loss: 734.4807\n",
      "Epoch 57/100\n",
      "51/51 [==============================] - 1s 12ms/step - loss: 734.1523\n",
      "Epoch 58/100\n",
      "51/51 [==============================] - 1s 11ms/step - loss: 733.7921\n",
      "Epoch 59/100\n",
      "51/51 [==============================] - 1s 14ms/step - loss: 733.4240\n",
      "Epoch 60/100\n",
      "51/51 [==============================] - 1s 12ms/step - loss: 733.2126\n",
      "Epoch 61/100\n",
      "51/51 [==============================] - 1s 12ms/step - loss: 733.0859\n",
      "Epoch 62/100\n",
      "51/51 [==============================] - 1s 12ms/step - loss: 732.5345\n",
      "Epoch 63/100\n",
      "51/51 [==============================] - 1s 13ms/step - loss: 732.6694\n",
      "Epoch 64/100\n",
      "51/51 [==============================] - 1s 13ms/step - loss: 732.0349\n",
      "Epoch 65/100\n",
      "51/51 [==============================] - 1s 12ms/step - loss: 732.0457\n",
      "Epoch 66/100\n",
      "51/51 [==============================] - 1s 14ms/step - loss: 731.4584\n",
      "Epoch 67/100\n",
      "51/51 [==============================] - 1s 13ms/step - loss: 731.1181\n",
      "Epoch 68/100\n",
      "51/51 [==============================] - 1s 12ms/step - loss: 731.1347\n",
      "Epoch 69/100\n",
      "51/51 [==============================] - 1s 12ms/step - loss: 730.3857\n",
      "Epoch 70/100\n",
      "51/51 [==============================] - 1s 11ms/step - loss: 730.1509\n",
      "Epoch 71/100\n",
      "51/51 [==============================] - 1s 12ms/step - loss: 730.1455\n",
      "Epoch 72/100\n",
      "51/51 [==============================] - 1s 12ms/step - loss: 730.2509\n",
      "Epoch 73/100\n",
      "51/51 [==============================] - 1s 12ms/step - loss: 729.4401\n",
      "Epoch 74/100\n",
      "51/51 [==============================] - 1s 12ms/step - loss: 729.1202\n",
      "Epoch 75/100\n",
      "51/51 [==============================] - 1s 12ms/step - loss: 728.8140\n",
      "Epoch 76/100\n",
      "51/51 [==============================] - 1s 12ms/step - loss: 728.6066\n",
      "Epoch 77/100\n",
      "51/51 [==============================] - 1s 12ms/step - loss: 728.2008\n",
      "Epoch 78/100\n",
      "51/51 [==============================] - 1s 12ms/step - loss: 727.9671\n",
      "Epoch 79/100\n",
      "51/51 [==============================] - 1s 11ms/step - loss: 727.5466\n",
      "Epoch 80/100\n",
      "51/51 [==============================] - 1s 11ms/step - loss: 727.2930\n",
      "Epoch 81/100\n",
      "51/51 [==============================] - 1s 12ms/step - loss: 727.2378\n",
      "Epoch 82/100\n",
      "51/51 [==============================] - 1s 12ms/step - loss: 726.7678\n",
      "Epoch 83/100\n",
      "51/51 [==============================] - 1s 11ms/step - loss: 726.7119\n",
      "Epoch 84/100\n",
      "51/51 [==============================] - 1s 12ms/step - loss: 726.3127\n",
      "Epoch 85/100\n",
      "51/51 [==============================] - 1s 11ms/step - loss: 726.0463\n",
      "Epoch 86/100\n",
      "51/51 [==============================] - 1s 12ms/step - loss: 725.5739\n",
      "Epoch 87/100\n",
      "51/51 [==============================] - 1s 11ms/step - loss: 725.4357\n",
      "Epoch 88/100\n",
      "51/51 [==============================] - 1s 11ms/step - loss: 725.1288\n",
      "Epoch 89/100\n",
      "51/51 [==============================] - 1s 11ms/step - loss: 724.9315\n",
      "Epoch 90/100\n",
      "51/51 [==============================] - 1s 12ms/step - loss: 724.6959\n",
      "Epoch 91/100\n",
      "51/51 [==============================] - 1s 11ms/step - loss: 724.4234\n",
      "Epoch 92/100\n",
      "51/51 [==============================] - 1s 11ms/step - loss: 724.0192\n",
      "Epoch 93/100\n",
      "51/51 [==============================] - 1s 11ms/step - loss: 723.8530\n",
      "Epoch 94/100\n",
      "51/51 [==============================] - 1s 11ms/step - loss: 723.5612\n",
      "Epoch 95/100\n",
      "51/51 [==============================] - 1s 11ms/step - loss: 723.4132\n",
      "Epoch 96/100\n",
      "51/51 [==============================] - 1s 11ms/step - loss: 722.9139\n",
      "Epoch 97/100\n",
      "51/51 [==============================] - 1s 11ms/step - loss: 722.7981\n",
      "Epoch 98/100\n",
      "51/51 [==============================] - 1s 11ms/step - loss: 722.4463\n",
      "Epoch 99/100\n",
      "51/51 [==============================] - 1s 12ms/step - loss: 722.2595\n",
      "Epoch 100/100\n",
      "51/51 [==============================] - 1s 12ms/step - loss: 721.8981\n"
     ]
    }
   ],
   "source": [
    "hist_30j=model_30j.fit(X_train,y_train,epochs=100,batch_size=64,verbose=1)"
   ]
  },
  {
   "cell_type": "code",
   "execution_count": 28,
   "id": "b32d4322",
   "metadata": {},
   "outputs": [
    {
     "data": {
      "text/plain": [
       "<matplotlib.legend.Legend at 0x1c4afeb0>"
      ]
     },
     "execution_count": 28,
     "metadata": {},
     "output_type": "execute_result"
    },
    {
     "data": {
      "image/png": "[encoded data removed]",
      "text/plain": [
       "<Figure size 432x288 with 1 Axes>"
      ]
     },
     "metadata": {
      "needs_background": "light"
     },
     "output_type": "display_data"
    }
   ],
   "source": [
    "plt.plot(hist_30j.history['loss'],label='loss_training_30j')\n",
    "plt.legend()"
   ]
  },
  {
   "cell_type": "code",
   "execution_count": 29,
   "id": "3c5d2650",
   "metadata": {},
   "outputs": [
    {
     "name": "stdout",
     "output_type": "stream",
     "text": [
      "1/1 [==============================] - 2s 2s/step\n",
      "1/1 [==============================] - 0s 38ms/step\n",
      "1/1 [==============================] - 0s 38ms/step\n",
      "1/1 [==============================] - 0s 37ms/step\n",
      "1/1 [==============================] - 0s 42ms/step\n",
      "1/1 [==============================] - 0s 39ms/step\n",
      "1/1 [==============================] - 0s 40ms/step\n",
      "1/1 [==============================] - 0s 31ms/step\n",
      "1/1 [==============================] - 0s 28ms/step\n",
      "1/1 [==============================] - 0s 23ms/step\n"
     ]
    }
   ],
   "source": [
    "p=-300\n",
    "prédictions=[]\n",
    "maes=0\n",
    "_list_maes=[]\n",
    "rmses=0\n",
    "_list_rmses=[]\n",
    "values=[]\n",
    "for i in range(10):\n",
    "    prediction=model_30j.predict(df_diff[p-time_step:p].values.reshape(1,time_step,1)) \n",
    "    x, x_diff = df['BDI'].iloc[p-1], prediction.reshape(30,)\n",
    "    \n",
    "    if p==-30:\n",
    "        test_df=df[-30:]\n",
    "    else:\n",
    "        test_df=df[p:p+30]\n",
    "    serie = pd.DataFrame(np.r_[x, x_diff].cumsum().astype(float)[-30:],index=test_df.index)\n",
    "    values.append(serie[-30:].values.reshape((30,)))\n",
    "    mae = np.mean(np.abs(test_df.values - serie.values))\n",
    "    maes=maes+mae\n",
    "    rmse = np.mean((test_df.values - serie.values)**2)**.5\n",
    "    rmses=rmses+rmse\n",
    "    _list_rmses.append(rmse)\n",
    "    _list_maes.append(mae)\n",
    "    prédictions.append(serie)\n",
    "    p+=30\n",
    "rmses=rmses/10\n",
    "maes=maes/10\n"
   ]
  },
  {
   "cell_type": "code",
   "execution_count": 30,
   "id": "64994c8b",
   "metadata": {},
   "outputs": [
    {
     "data": {
      "text/plain": [
       "[array([3235.92797852, 3217.51220703, 3196.68139648, 3174.50927734,\n",
       "        3153.29150391, 3136.62304688, 3124.10424805, 3113.65429688,\n",
       "        3102.90917969, 3090.73901367, 3077.3828125 , 3067.92700195,\n",
       "        3059.60913086, 3050.2097168 , 3042.52612305, 3034.84082031,\n",
       "        3022.62646484, 3012.72265625, 3008.65112305, 3006.72070312,\n",
       "        3004.48974609, 3001.23168945, 2996.52856445, 2992.61621094,\n",
       "        2990.59765625, 2991.12695312, 2992.98339844, 2995.00805664,\n",
       "        2998.20117188, 3000.04931641]),\n",
       " array([3282.27416992, 3278.38452148, 3274.55126953, 3274.06005859,\n",
       "        3275.84399414, 3279.54125977, 3282.40161133, 3284.54492188,\n",
       "        3285.6171875 , 3287.40112305, 3288.67871094, 3289.45239258,\n",
       "        3289.84838867, 3290.61694336, 3291.22094727, 3292.38085938,\n",
       "        3293.80883789, 3295.78222656, 3297.17285156, 3298.78076172,\n",
       "        3299.78515625, 3301.58813477, 3304.3449707 , 3308.01806641,\n",
       "        3311.17382812, 3311.16186523, 3310.49047852, 3309.99414062,\n",
       "        3310.0378418 , 3310.97949219]),\n",
       " array([3999.81103516, 3996.30566406, 3986.24365234, 3970.22583008,\n",
       "        3955.90380859, 3946.43994141, 3942.31420898, 3940.45141602,\n",
       "        3937.91723633, 3933.65649414, 3930.85668945, 3931.36254883,\n",
       "        3933.6809082 , 3932.48266602, 3931.82397461, 3933.71801758,\n",
       "        3934.82080078, 3939.89208984, 3947.45556641, 3952.27294922,\n",
       "        3954.46875   , 3953.34228516, 3953.04882812, 3955.7878418 ,\n",
       "        3961.52319336, 3970.32275391, 3980.99755859, 3987.10839844,\n",
       "        3991.97460938, 3994.62817383]),\n",
       " array([5243.22998047, 5255.04833984, 5263.42626953, 5265.54492188,\n",
       "        5262.61279297, 5256.55712891, 5250.77587891, 5248.34033203,\n",
       "        5245.89892578, 5242.45654297, 5237.93603516, 5233.24169922,\n",
       "        5228.58154297, 5222.36572266, 5216.04736328, 5209.82714844,\n",
       "        5200.48974609, 5191.18945312, 5184.66357422, 5180.38818359,\n",
       "        5178.05664062, 5176.83398438, 5171.95703125, 5163.78369141,\n",
       "        5158.12158203, 5154.78808594, 5155.98242188, 5158.06982422,\n",
       "        5159.40087891, 5159.16357422]),\n",
       " array([3389.75097656, 3365.34594727, 3346.23925781, 3327.375     ,\n",
       "        3310.2253418 , 3292.29785156, 3274.73852539, 3258.59985352,\n",
       "        3246.27124023, 3233.57080078, 3221.46386719, 3212.44067383,\n",
       "        3203.53027344, 3193.82397461, 3184.73632812, 3177.01074219,\n",
       "        3166.67407227, 3158.98706055, 3155.3371582 , 3150.93896484,\n",
       "        3147.52270508, 3146.26196289, 3144.47314453, 3140.39990234,\n",
       "        3137.29199219, 3136.45996094, 3136.82763672, 3139.45117188,\n",
       "        3144.31835938, 3147.59667969]),\n",
       " array([3059.8425293 , 3069.53710938, 3082.66015625, 3098.77905273,\n",
       "        3114.45385742, 3127.59204102, 3135.62768555, 3140.13916016,\n",
       "        3142.68261719, 3146.31567383, 3148.1015625 , 3148.3984375 ,\n",
       "        3146.22094727, 3142.62866211, 3138.46289062, 3133.1862793 ,\n",
       "        3127.44750977, 3118.29638672, 3103.04174805, 3085.54833984,\n",
       "        3071.78027344, 3061.60205078, 3055.28173828, 3047.84985352,\n",
       "        3036.82592773, 3020.92163086, 3006.09155273, 2995.10644531,\n",
       "        2985.8737793 , 2979.48291016]),\n",
       " array([2248.49609375, 2243.31103516, 2240.97753906, 2242.01245117,\n",
       "        2243.24169922, 2244.26293945, 2245.53686523, 2245.7878418 ,\n",
       "        2245.62109375, 2245.8269043 , 2244.62768555, 2242.8293457 ,\n",
       "        2239.96826172, 2237.59790039, 2236.59692383, 2236.36547852,\n",
       "        2236.        , 2235.05078125, 2231.83642578, 2226.84033203,\n",
       "        2223.46459961, 2221.94384766, 2221.18188477, 2220.53442383,\n",
       "        2218.58447266, 2213.40039062, 2208.125     , 2203.6262207 ,\n",
       "        2199.17749023, 2196.5222168 ]),\n",
       " array([1421.52001953, 1445.18774414, 1464.58605957, 1478.32885742,\n",
       "        1485.62585449, 1490.15600586, 1492.90270996, 1496.82128906,\n",
       "        1499.8013916 , 1499.95446777, 1499.17907715, 1497.43029785,\n",
       "        1495.14099121, 1492.7668457 , 1487.34936523, 1478.45703125,\n",
       "        1465.65515137, 1450.609375  , 1439.35534668, 1431.12805176,\n",
       "        1426.30883789, 1422.83605957, 1415.00146484, 1402.00317383,\n",
       "        1389.76196289, 1379.60949707, 1374.00109863, 1371.69299316,\n",
       "        1368.98620605, 1366.18408203]),\n",
       " array([2095.01123047, 2107.03466797, 2114.68701172, 2123.39526367,\n",
       "        2133.50073242, 2142.85693359, 2148.54614258, 2151.5078125 ,\n",
       "        2153.78857422, 2156.03271484, 2157.59765625, 2158.76123047,\n",
       "        2158.10913086, 2154.99072266, 2149.87231445, 2146.48461914,\n",
       "        2142.52172852, 2137.83349609, 2132.94091797, 2127.99707031,\n",
       "        2120.02758789, 2111.18652344, 2105.16674805, 2101.03808594,\n",
       "        2099.22485352, 2094.30493164, 2084.99462891, 2077.84570312,\n",
       "        2073.39868164, 2069.29296875]),\n",
       " array([2358.63745117, 2355.04541016, 2343.47827148, 2326.05053711,\n",
       "        2310.65991211, 2301.6940918 , 2298.10742188, 2296.35400391,\n",
       "        2292.81787109, 2287.14404297, 2282.7019043 , 2282.26147461,\n",
       "        2283.16015625, 2281.14477539, 2279.00317383, 2278.86669922,\n",
       "        2277.31054688, 2279.66577148, 2285.31884766, 2289.33374023,\n",
       "        2290.75854492, 2288.71972656, 2287.02587891, 2288.85449219,\n",
       "        2292.86108398, 2299.21948242, 2308.43798828, 2314.09057617,\n",
       "        2318.02294922, 2319.40234375])]"
      ]
     },
     "execution_count": 30,
     "metadata": {},
     "output_type": "execute_result"
    }
   ],
   "source": [
    "values"
   ]
  },
  {
   "cell_type": "code",
   "execution_count": 31,
   "id": "bd97cdaa",
   "metadata": {},
   "outputs": [
    {
     "data": {
      "image/png": "[encoded data removed]",
      "text/plain": [
       "<Figure size 1200x500 with 1 Axes>"
      ]
     },
     "metadata": {
      "needs_background": "light"
     },
     "output_type": "display_data"
    }
   ],
   "source": [
    "plt.figure(figsize=(12,5), dpi=100)\n",
    "for i in range(len(prédictions)):\n",
    "    if i==0:\n",
    "        plt.plot(prédictions[i],color='r',label='prédiction à long terme: 30j')\n",
    "    else:\n",
    "        plt.plot(prédictions[i],color='r')\n",
    "plt.plot(df[-300:].BDI, label='valeurs réelles')\n",
    "\n",
    "plt.title(\"LSTM : prédiction d'un mois\")\n",
    "plt.legend(loc='best', fontsize=8)\n",
    "plt.show()"
   ]
  },
  {
   "cell_type": "code",
   "execution_count": 32,
   "id": "dbe6d7a6",
   "metadata": {},
   "outputs": [
    {
     "data": {
      "text/plain": [
       "(407.8576790364583, 491.34487942035014)"
      ]
     },
     "execution_count": 32,
     "metadata": {},
     "output_type": "execute_result"
    }
   ],
   "source": [
    "maes,rmses"
   ]
  },
  {
   "cell_type": "code",
   "execution_count": 49,
   "id": "94187f41",
   "metadata": {},
   "outputs": [],
   "source": [
    "model_30j.save('saved_models/model_30j.h5')"
   ]
  },
  {
   "cell_type": "markdown",
   "id": "c42b9e1f",
   "metadata": {},
   "source": [
    "### prediction d'une semaine"
   ]
  },
  {
   "cell_type": "code",
   "execution_count": 33,
   "id": "d2e327c3",
   "metadata": {},
   "outputs": [],
   "source": [
    "train=df_diff[:-70].values\n"
   ]
  },
  {
   "cell_type": "code",
   "execution_count": 34,
   "id": "8f2b9e43",
   "metadata": {},
   "outputs": [],
   "source": [
    "import numpy\n",
    "# convert an array of values into a dataset matrix\n",
    "def create_dataset_semaine(dataset, time_step=1):\n",
    "\tdataX, dataY = [], []\n",
    "\tfor i in range(len(dataset)-time_step-7):\n",
    "\t\ta = dataset[i:(i+time_step), 0]   ###i=0, 0,1,2,3-----99   100 \n",
    "\t\tdataX.append(a)\n",
    "\t\tdataY.append(dataset[i + time_step:i + time_step+7, 0])\n",
    "\treturn numpy.array(dataX), numpy.array(dataY)"
   ]
  },
  {
   "cell_type": "code",
   "execution_count": 35,
   "id": "31f71dd8",
   "metadata": {},
   "outputs": [],
   "source": [
    "time_step = 3\n",
    "X_train, y_train = create_dataset_semaine(train, time_step)"
   ]
  },
  {
   "cell_type": "code",
   "execution_count": 36,
   "id": "d128a55a",
   "metadata": {},
   "outputs": [],
   "source": [
    "X_train =X_train.reshape(X_train.shape[0],X_train.shape[1] , 1)"
   ]
  },
  {
   "cell_type": "code",
   "execution_count": 37,
   "id": "840d8f98",
   "metadata": {},
   "outputs": [],
   "source": [
    "def creat_model_semaine():\n",
    "    model=Sequential()\n",
    "    model.add(LSTM(50,return_sequences=True,input_shape=(3,1)))\n",
    "    model.add(LSTM(50))\n",
    "    model.add(Dense(7))\n",
    "    model.compile(loss='mean_squared_error',optimizer='adam')\n",
    "    return(model)"
   ]
  },
  {
   "cell_type": "code",
   "execution_count": 38,
   "id": "a0cac0cb",
   "metadata": {},
   "outputs": [
    {
     "name": "stdout",
     "output_type": "stream",
     "text": [
      "Model: \"sequential_2\"\n",
      "_________________________________________________________________\n",
      " Layer (type)                Output Shape              Param #   \n",
      "=================================================================\n",
      " lstm_4 (LSTM)               (None, 3, 50)             10400     \n",
      "                                                                 \n",
      " lstm_5 (LSTM)               (None, 50)                20200     \n",
      "                                                                 \n",
      " dense_2 (Dense)             (None, 7)                 357       \n",
      "                                                                 \n",
      "=================================================================\n",
      "Total params: 30,957\n",
      "Trainable params: 30,957\n",
      "Non-trainable params: 0\n",
      "_________________________________________________________________\n"
     ]
    }
   ],
   "source": [
    "model_7j=creat_model_semaine()\n",
    "model_7j.summary()"
   ]
  },
  {
   "cell_type": "code",
   "execution_count": 39,
   "id": "ec51d73a",
   "metadata": {},
   "outputs": [
    {
     "name": "stdout",
     "output_type": "stream",
     "text": [
      "Epoch 1/100\n",
      "55/55 [==============================] - 9s 12ms/step - loss: 1196.0448\n",
      "Epoch 2/100\n",
      "55/55 [==============================] - 1s 12ms/step - loss: 1167.5045\n",
      "Epoch 3/100\n",
      "55/55 [==============================] - 1s 12ms/step - loss: 1143.4951\n",
      "Epoch 4/100\n",
      "55/55 [==============================] - 1s 12ms/step - loss: 1130.1864\n",
      "Epoch 5/100\n",
      "55/55 [==============================] - 1s 12ms/step - loss: 1122.8649\n",
      "Epoch 6/100\n",
      "55/55 [==============================] - 1s 12ms/step - loss: 1117.4594\n",
      "Epoch 7/100\n",
      "55/55 [==============================] - 1s 14ms/step - loss: 1111.5278\n",
      "Epoch 8/100\n",
      "55/55 [==============================] - 1s 12ms/step - loss: 1106.7291\n",
      "Epoch 9/100\n",
      "55/55 [==============================] - 1s 13ms/step - loss: 1102.2211\n",
      "Epoch 10/100\n",
      "55/55 [==============================] - 1s 12ms/step - loss: 1098.2202\n",
      "Epoch 11/100\n",
      "55/55 [==============================] - 1s 12ms/step - loss: 1094.8689\n",
      "Epoch 12/100\n",
      "55/55 [==============================] - 1s 13ms/step - loss: 1091.0452\n",
      "Epoch 13/100\n",
      "55/55 [==============================] - 1s 12ms/step - loss: 1088.7048\n",
      "Epoch 14/100\n",
      "55/55 [==============================] - 1s 13ms/step - loss: 1085.2826\n",
      "Epoch 15/100\n",
      "55/55 [==============================] - 1s 12ms/step - loss: 1082.2297\n",
      "Epoch 16/100\n",
      "55/55 [==============================] - 1s 12ms/step - loss: 1079.7389\n",
      "Epoch 17/100\n",
      "55/55 [==============================] - 1s 13ms/step - loss: 1076.6381\n",
      "Epoch 18/100\n",
      "55/55 [==============================] - 1s 12ms/step - loss: 1075.7097\n",
      "Epoch 19/100\n",
      "55/55 [==============================] - 1s 12ms/step - loss: 1072.5876\n",
      "Epoch 20/100\n",
      "55/55 [==============================] - 1s 12ms/step - loss: 1071.2388\n",
      "Epoch 21/100\n",
      "55/55 [==============================] - 1s 12ms/step - loss: 1068.8495\n",
      "Epoch 22/100\n",
      "55/55 [==============================] - 1s 13ms/step - loss: 1067.2212\n",
      "Epoch 23/100\n",
      "55/55 [==============================] - 1s 14ms/step - loss: 1065.3162\n",
      "Epoch 24/100\n",
      "55/55 [==============================] - 1s 13ms/step - loss: 1063.6572\n",
      "Epoch 25/100\n",
      "55/55 [==============================] - 1s 14ms/step - loss: 1061.5724\n",
      "Epoch 26/100\n",
      "55/55 [==============================] - 1s 13ms/step - loss: 1061.2456\n",
      "Epoch 27/100\n",
      "55/55 [==============================] - 1s 13ms/step - loss: 1059.6215\n",
      "Epoch 28/100\n",
      "55/55 [==============================] - 1s 13ms/step - loss: 1058.1237\n",
      "Epoch 29/100\n",
      "55/55 [==============================] - 1s 12ms/step - loss: 1055.9360\n",
      "Epoch 30/100\n",
      "55/55 [==============================] - 1s 14ms/step - loss: 1054.5969\n",
      "Epoch 31/100\n",
      "55/55 [==============================] - 1s 13ms/step - loss: 1053.9880\n",
      "Epoch 32/100\n",
      "55/55 [==============================] - 1s 12ms/step - loss: 1051.5688\n",
      "Epoch 33/100\n",
      "55/55 [==============================] - 1s 12ms/step - loss: 1051.2355\n",
      "Epoch 34/100\n",
      "55/55 [==============================] - 1s 12ms/step - loss: 1049.0946\n",
      "Epoch 35/100\n",
      "55/55 [==============================] - 1s 12ms/step - loss: 1047.4922\n",
      "Epoch 36/100\n",
      "55/55 [==============================] - 1s 12ms/step - loss: 1046.5220\n",
      "Epoch 37/100\n",
      "55/55 [==============================] - 1s 12ms/step - loss: 1045.3545\n",
      "Epoch 38/100\n",
      "55/55 [==============================] - 1s 12ms/step - loss: 1043.6421\n",
      "Epoch 39/100\n",
      "55/55 [==============================] - 1s 12ms/step - loss: 1042.0171\n",
      "Epoch 40/100\n",
      "55/55 [==============================] - 1s 12ms/step - loss: 1040.4214\n",
      "Epoch 41/100\n",
      "55/55 [==============================] - 1s 12ms/step - loss: 1040.2191\n",
      "Epoch 42/100\n",
      "55/55 [==============================] - 1s 12ms/step - loss: 1038.6947\n",
      "Epoch 43/100\n",
      "55/55 [==============================] - 1s 12ms/step - loss: 1036.6262\n",
      "Epoch 44/100\n",
      "55/55 [==============================] - 1s 12ms/step - loss: 1035.3335\n",
      "Epoch 45/100\n",
      "55/55 [==============================] - 1s 13ms/step - loss: 1034.7388\n",
      "Epoch 46/100\n",
      "55/55 [==============================] - 1s 13ms/step - loss: 1033.9600\n",
      "Epoch 47/100\n",
      "55/55 [==============================] - 1s 12ms/step - loss: 1031.8551\n",
      "Epoch 48/100\n",
      "55/55 [==============================] - 1s 12ms/step - loss: 1030.5123\n",
      "Epoch 49/100\n",
      "55/55 [==============================] - 1s 12ms/step - loss: 1030.2217\n",
      "Epoch 50/100\n",
      "55/55 [==============================] - 1s 12ms/step - loss: 1029.7830\n",
      "Epoch 51/100\n",
      "55/55 [==============================] - 1s 12ms/step - loss: 1029.3032\n",
      "Epoch 52/100\n",
      "55/55 [==============================] - 1s 12ms/step - loss: 1026.1733\n",
      "Epoch 53/100\n",
      "55/55 [==============================] - 1s 12ms/step - loss: 1025.5256\n",
      "Epoch 54/100\n",
      "55/55 [==============================] - 1s 12ms/step - loss: 1024.3193\n",
      "Epoch 55/100\n",
      "55/55 [==============================] - 1s 12ms/step - loss: 1022.3004\n",
      "Epoch 56/100\n",
      "55/55 [==============================] - 1s 12ms/step - loss: 1022.2700\n",
      "Epoch 57/100\n",
      "55/55 [==============================] - 1s 12ms/step - loss: 1022.0599\n",
      "Epoch 58/100\n",
      "55/55 [==============================] - 1s 12ms/step - loss: 1020.2210\n",
      "Epoch 59/100\n",
      "55/55 [==============================] - 1s 12ms/step - loss: 1019.5069\n",
      "Epoch 60/100\n",
      "55/55 [==============================] - 1s 12ms/step - loss: 1018.1086\n",
      "Epoch 61/100\n",
      "55/55 [==============================] - 1s 12ms/step - loss: 1017.1871\n",
      "Epoch 62/100\n",
      "55/55 [==============================] - 1s 12ms/step - loss: 1015.6824\n",
      "Epoch 63/100\n",
      "55/55 [==============================] - 1s 12ms/step - loss: 1014.3140\n",
      "Epoch 64/100\n",
      "55/55 [==============================] - 1s 13ms/step - loss: 1013.6443\n",
      "Epoch 65/100\n",
      "55/55 [==============================] - 1s 12ms/step - loss: 1013.1042\n",
      "Epoch 66/100\n",
      "55/55 [==============================] - 1s 12ms/step - loss: 1011.1327\n",
      "Epoch 67/100\n",
      "55/55 [==============================] - 1s 12ms/step - loss: 1010.3116\n",
      "Epoch 68/100\n",
      "55/55 [==============================] - 1s 12ms/step - loss: 1008.9971\n",
      "Epoch 69/100\n",
      "55/55 [==============================] - 1s 12ms/step - loss: 1007.9465\n",
      "Epoch 70/100\n",
      "55/55 [==============================] - 1s 12ms/step - loss: 1007.2008\n",
      "Epoch 71/100\n",
      "55/55 [==============================] - 1s 12ms/step - loss: 1005.9825\n",
      "Epoch 72/100\n",
      "55/55 [==============================] - 1s 12ms/step - loss: 1005.5103\n",
      "Epoch 73/100\n",
      "55/55 [==============================] - 1s 13ms/step - loss: 1005.5806\n",
      "Epoch 74/100\n",
      "55/55 [==============================] - 1s 12ms/step - loss: 1003.9528\n",
      "Epoch 75/100\n",
      "55/55 [==============================] - 1s 13ms/step - loss: 1002.0406\n",
      "Epoch 76/100\n",
      "55/55 [==============================] - 1s 12ms/step - loss: 1001.6652\n",
      "Epoch 77/100\n",
      "55/55 [==============================] - 1s 12ms/step - loss: 1000.6292\n",
      "Epoch 78/100\n",
      "55/55 [==============================] - 1s 12ms/step - loss: 999.3080\n",
      "Epoch 79/100\n",
      "55/55 [==============================] - 1s 12ms/step - loss: 998.9097\n",
      "Epoch 80/100\n",
      "55/55 [==============================] - 1s 13ms/step - loss: 997.5696\n",
      "Epoch 81/100\n",
      "55/55 [==============================] - 1s 12ms/step - loss: 996.7970\n",
      "Epoch 82/100\n",
      "55/55 [==============================] - 1s 12ms/step - loss: 995.9009\n",
      "Epoch 83/100\n",
      "55/55 [==============================] - 1s 12ms/step - loss: 995.3910\n",
      "Epoch 84/100\n",
      "55/55 [==============================] - 1s 12ms/step - loss: 995.2917\n",
      "Epoch 85/100\n",
      "55/55 [==============================] - 1s 12ms/step - loss: 993.8599\n",
      "Epoch 86/100\n",
      "55/55 [==============================] - 1s 13ms/step - loss: 992.2064\n",
      "Epoch 87/100\n",
      "55/55 [==============================] - 1s 13ms/step - loss: 991.2258\n",
      "Epoch 88/100\n",
      "55/55 [==============================] - 1s 13ms/step - loss: 990.6771\n",
      "Epoch 89/100\n",
      "55/55 [==============================] - 1s 13ms/step - loss: 991.1161\n",
      "Epoch 90/100\n",
      "55/55 [==============================] - 1s 13ms/step - loss: 990.8561\n",
      "Epoch 91/100\n",
      "55/55 [==============================] - 1s 12ms/step - loss: 988.6639\n",
      "Epoch 92/100\n",
      "55/55 [==============================] - 1s 13ms/step - loss: 987.5999\n",
      "Epoch 93/100\n",
      "55/55 [==============================] - 1s 14ms/step - loss: 987.1132\n",
      "Epoch 94/100\n",
      "55/55 [==============================] - 1s 13ms/step - loss: 986.9337\n",
      "Epoch 95/100\n",
      "55/55 [==============================] - 1s 13ms/step - loss: 985.8121\n",
      "Epoch 96/100\n",
      "55/55 [==============================] - 1s 12ms/step - loss: 985.2470\n",
      "Epoch 97/100\n",
      "55/55 [==============================] - 1s 12ms/step - loss: 983.3705\n",
      "Epoch 98/100\n",
      "55/55 [==============================] - 1s 13ms/step - loss: 983.2903\n",
      "Epoch 99/100\n",
      "55/55 [==============================] - 1s 12ms/step - loss: 981.6503\n",
      "Epoch 100/100\n",
      "55/55 [==============================] - 1s 12ms/step - loss: 981.0312\n"
     ]
    }
   ],
   "source": [
    "hist_7j=model_7j.fit(X_train,y_train,epochs=100,batch_size=64,verbose=1)"
   ]
  },
  {
   "cell_type": "code",
   "execution_count": 40,
   "id": "42f2be5b",
   "metadata": {},
   "outputs": [
    {
     "data": {
      "text/plain": [
       "<matplotlib.legend.Legend at 0x1c755d00>"
      ]
     },
     "execution_count": 40,
     "metadata": {},
     "output_type": "execute_result"
    },
    {
     "data": {
      "image/png": "[encoded data removed]",
      "text/plain": [
       "<Figure size 432x288 with 1 Axes>"
      ]
     },
     "metadata": {
      "needs_background": "light"
     },
     "output_type": "display_data"
    }
   ],
   "source": [
    "plt.plot(hist_7j.history['loss'],label='loss_training_7j')\n",
    "plt.legend()"
   ]
  },
  {
   "cell_type": "code",
   "execution_count": 41,
   "id": "eb50bd2f",
   "metadata": {},
   "outputs": [
    {
     "name": "stdout",
     "output_type": "stream",
     "text": [
      "1/1 [==============================] - 2s 2s/step\n",
      "1/1 [==============================] - 0s 35ms/step\n",
      "1/1 [==============================] - 0s 37ms/step\n",
      "1/1 [==============================] - 0s 37ms/step\n",
      "1/1 [==============================] - 0s 26ms/step\n",
      "1/1 [==============================] - 0s 32ms/step\n",
      "1/1 [==============================] - 0s 40ms/step\n",
      "1/1 [==============================] - 0s 28ms/step\n",
      "1/1 [==============================] - 0s 37ms/step\n",
      "1/1 [==============================] - 0s 38ms/step\n"
     ]
    }
   ],
   "source": [
    "p=-70\n",
    "prédictions=[]\n",
    "maes=0\n",
    "_list_maes=[]\n",
    "rmses=0\n",
    "_list_rmses=[]\n",
    "values=[]\n",
    "for i in range(10):\n",
    "    prediction=model_7j.predict(df_diff[p-time_step:p].values.reshape(1,time_step,1)) \n",
    "    x, x_diff = df['BDI'].iloc[p-1], prediction.reshape(7,)\n",
    "    \n",
    "    if p==-7:\n",
    "        test_df=df[-7:]\n",
    "    else:\n",
    "        test_df=df[p:p+7]\n",
    "    serie = pd.DataFrame(np.r_[x, x_diff].cumsum().astype(float)[-7:],index=test_df.index)\n",
    "    values.append(serie[-7:].values.reshape((7,)))\n",
    "    mae = np.mean(np.abs(test_df.values - serie.values))\n",
    "    maes=maes+mae\n",
    "    rmse = np.mean((test_df.values - serie.values)**2)**.5\n",
    "    rmses=rmses+rmse\n",
    "    _list_rmses.append(rmse)\n",
    "    _list_maes.append(mae)\n",
    "    prédictions.append(serie)\n",
    "    p+=7\n",
    "rmses=rmses/10\n",
    "maes=maes/10\n"
   ]
  },
  {
   "cell_type": "code",
   "execution_count": 42,
   "id": "af9b076c",
   "metadata": {},
   "outputs": [
    {
     "data": {
      "text/plain": [
       "[array([2012.83886719, 2029.28076172, 2053.0168457 , 2077.25195312,\n",
       "        2097.47070312, 2109.03442383, 2113.66015625]),\n",
       " array([2039.92431641, 2019.77941895, 1993.16784668, 1961.36608887,\n",
       "        1932.18652344, 1910.4987793 , 1897.45446777]),\n",
       " array([2196.36206055, 2210.98974609, 2227.94873047, 2238.1394043 ,\n",
       "        2241.32177734, 2236.47949219, 2229.51220703]),\n",
       " array([2721.55517578, 2731.02587891, 2741.28442383, 2749.31762695,\n",
       "        2753.76074219, 2752.64233398, 2749.13256836]),\n",
       " array([2578.98828125, 2567.51611328, 2564.3581543 , 2570.29858398,\n",
       "        2579.46826172, 2585.57592773, 2588.50610352]),\n",
       " array([2493.99633789, 2487.10400391, 2483.28637695, 2477.58569336,\n",
       "        2470.55737305, 2464.171875  , 2458.79541016]),\n",
       " array([2305.0324707 , 2287.29589844, 2277.65161133, 2272.69042969,\n",
       "        2270.72509766, 2269.10327148, 2267.0402832 ]),\n",
       " array([2043.52587891, 2033.48376465, 2018.23803711, 2004.88195801,\n",
       "        1997.70361328, 1996.765625  , 1998.42016602]),\n",
       " array([2144.33520508, 2150.29541016, 2157.97192383, 2177.23706055,\n",
       "        2202.625     , 2223.26464844, 2235.56713867]),\n",
       " array([2351.46826172, 2370.46459961, 2394.78588867, 2421.13696289,\n",
       "        2443.68432617, 2459.98364258, 2469.57397461])]"
      ]
     },
     "execution_count": 42,
     "metadata": {},
     "output_type": "execute_result"
    }
   ],
   "source": [
    "values"
   ]
  },
  {
   "cell_type": "code",
   "execution_count": 43,
   "id": "edbb8b49",
   "metadata": {},
   "outputs": [
    {
     "data": {
      "text/plain": [
       "(117.74097311549365, 95.84774344308036)"
      ]
     },
     "execution_count": 43,
     "metadata": {},
     "output_type": "execute_result"
    }
   ],
   "source": [
    "rmses,maes"
   ]
  },
  {
   "cell_type": "code",
   "execution_count": 44,
   "id": "41b2623e",
   "metadata": {},
   "outputs": [
    {
     "data": {
      "image/png": "[encoded data removed]",
      "text/plain": [
       "<Figure size 1200x500 with 1 Axes>"
      ]
     },
     "metadata": {
      "needs_background": "light"
     },
     "output_type": "display_data"
    }
   ],
   "source": [
    "plt.figure(figsize=(12,5), dpi=100)\n",
    "for i in range(len(prédictions)):\n",
    "    if i==0:\n",
    "        plt.plot(prédictions[i],color='r',label='prédiction à long terme: 7j')\n",
    "    else:\n",
    "        plt.plot(prédictions[i],color='r')\n",
    "plt.plot(df[-70:].BDI, label='valeurs réelles')\n",
    "\n",
    "plt.title(\"LSTM : prédiction d'une semaine\")\n",
    "plt.legend(loc='best', fontsize=8)\n",
    "plt.show()"
   ]
  },
  {
   "cell_type": "code",
   "execution_count": 50,
   "id": "a1f2b459",
   "metadata": {},
   "outputs": [],
   "source": [
    "model_7j.save('saved_models/model_7j.h5')"
   ]
  }
 ],
 "metadata": {
  "kernelspec": {
   "display_name": "Python 3",
   "language": "python",
   "name": "python3"
  },
  "language_info": {
   "codemirror_mode": {
    "name": "ipython",
    "version": 3
   },
   "file_extension": ".py",
   "mimetype": "text/x-python",
   "name": "python",
   "nbconvert_exporter": "python",
   "pygments_lexer": "ipython3",
   "version": "3.8.8"
  }
 },
 "nbformat": 4,
 "nbformat_minor": 5
}
